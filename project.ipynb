{
 "cells": [
  {
   "cell_type": "code",
   "execution_count": 683,
   "metadata": {},
   "outputs": [],
   "source": [
    "import pandas as pd\n",
    "import numpy as np\n",
    "import matplotlib.pyplot as plt\n",
    "import seaborn as sns"
   ]
  },
  {
   "cell_type": "code",
   "execution_count": 684,
   "metadata": {},
   "outputs": [],
   "source": [
    "df = pd.read_csv('data/heart.csv')"
   ]
  },
  {
   "cell_type": "code",
   "execution_count": 685,
   "metadata": {},
   "outputs": [
    {
     "data": {
      "text/html": [
       "<div>\n",
       "<style scoped>\n",
       "    .dataframe tbody tr th:only-of-type {\n",
       "        vertical-align: middle;\n",
       "    }\n",
       "\n",
       "    .dataframe tbody tr th {\n",
       "        vertical-align: top;\n",
       "    }\n",
       "\n",
       "    .dataframe thead th {\n",
       "        text-align: right;\n",
       "    }\n",
       "</style>\n",
       "<table border=\"1\" class=\"dataframe\">\n",
       "  <thead>\n",
       "    <tr style=\"text-align: right;\">\n",
       "      <th></th>\n",
       "      <th>Age</th>\n",
       "      <th>Sex</th>\n",
       "      <th>ChestPainType</th>\n",
       "      <th>RestingBP</th>\n",
       "      <th>Cholesterol</th>\n",
       "      <th>FastingBS</th>\n",
       "      <th>RestingECG</th>\n",
       "      <th>MaxHR</th>\n",
       "      <th>ExerciseAngina</th>\n",
       "      <th>Oldpeak</th>\n",
       "      <th>ST_Slope</th>\n",
       "      <th>HeartDisease</th>\n",
       "    </tr>\n",
       "  </thead>\n",
       "  <tbody>\n",
       "    <tr>\n",
       "      <th>0</th>\n",
       "      <td>40</td>\n",
       "      <td>M</td>\n",
       "      <td>ATA</td>\n",
       "      <td>140.0</td>\n",
       "      <td>289.0</td>\n",
       "      <td>0.0</td>\n",
       "      <td>Normal</td>\n",
       "      <td>172.0</td>\n",
       "      <td>N</td>\n",
       "      <td>0.0</td>\n",
       "      <td>Up</td>\n",
       "      <td>0</td>\n",
       "    </tr>\n",
       "    <tr>\n",
       "      <th>1</th>\n",
       "      <td>49</td>\n",
       "      <td>F</td>\n",
       "      <td>NAP</td>\n",
       "      <td>160.0</td>\n",
       "      <td>NaN</td>\n",
       "      <td>0.0</td>\n",
       "      <td>Normal</td>\n",
       "      <td>156.0</td>\n",
       "      <td>N</td>\n",
       "      <td>1.0</td>\n",
       "      <td>Flat</td>\n",
       "      <td>1</td>\n",
       "    </tr>\n",
       "    <tr>\n",
       "      <th>2</th>\n",
       "      <td>37</td>\n",
       "      <td>M</td>\n",
       "      <td>ATA</td>\n",
       "      <td>130.0</td>\n",
       "      <td>NaN</td>\n",
       "      <td>0.0</td>\n",
       "      <td>ST</td>\n",
       "      <td>98.0</td>\n",
       "      <td>N</td>\n",
       "      <td>0.0</td>\n",
       "      <td>Up</td>\n",
       "      <td>0</td>\n",
       "    </tr>\n",
       "    <tr>\n",
       "      <th>3</th>\n",
       "      <td>48</td>\n",
       "      <td>F</td>\n",
       "      <td>ASY</td>\n",
       "      <td>138.0</td>\n",
       "      <td>214.0</td>\n",
       "      <td>0.0</td>\n",
       "      <td>Normal</td>\n",
       "      <td>108.0</td>\n",
       "      <td>Y</td>\n",
       "      <td>1.5</td>\n",
       "      <td>Flat</td>\n",
       "      <td>1</td>\n",
       "    </tr>\n",
       "    <tr>\n",
       "      <th>4</th>\n",
       "      <td>54</td>\n",
       "      <td>M</td>\n",
       "      <td>NAP</td>\n",
       "      <td>150.0</td>\n",
       "      <td>195.0</td>\n",
       "      <td>0.0</td>\n",
       "      <td>Normal</td>\n",
       "      <td>122.0</td>\n",
       "      <td>N</td>\n",
       "      <td>0.0</td>\n",
       "      <td>Up</td>\n",
       "      <td>0</td>\n",
       "    </tr>\n",
       "    <tr>\n",
       "      <th>5</th>\n",
       "      <td>39</td>\n",
       "      <td>M</td>\n",
       "      <td>NAP</td>\n",
       "      <td>120.0</td>\n",
       "      <td>339.0</td>\n",
       "      <td>0.0</td>\n",
       "      <td>Normal</td>\n",
       "      <td>170.0</td>\n",
       "      <td>N</td>\n",
       "      <td>0.0</td>\n",
       "      <td>Up</td>\n",
       "      <td>0</td>\n",
       "    </tr>\n",
       "    <tr>\n",
       "      <th>6</th>\n",
       "      <td>45</td>\n",
       "      <td>F</td>\n",
       "      <td>ATA</td>\n",
       "      <td>130.0</td>\n",
       "      <td>237.0</td>\n",
       "      <td>0.0</td>\n",
       "      <td>Normal</td>\n",
       "      <td>NaN</td>\n",
       "      <td>N</td>\n",
       "      <td>0.0</td>\n",
       "      <td>Up</td>\n",
       "      <td>0</td>\n",
       "    </tr>\n",
       "    <tr>\n",
       "      <th>7</th>\n",
       "      <td>54</td>\n",
       "      <td>M</td>\n",
       "      <td>ATA</td>\n",
       "      <td>110.0</td>\n",
       "      <td>NaN</td>\n",
       "      <td>NaN</td>\n",
       "      <td>Normal</td>\n",
       "      <td>142.0</td>\n",
       "      <td>N</td>\n",
       "      <td>0.0</td>\n",
       "      <td>Up</td>\n",
       "      <td>0</td>\n",
       "    </tr>\n",
       "    <tr>\n",
       "      <th>8</th>\n",
       "      <td>37</td>\n",
       "      <td>M</td>\n",
       "      <td>ASY</td>\n",
       "      <td>140.0</td>\n",
       "      <td>207.0</td>\n",
       "      <td>0.0</td>\n",
       "      <td>Normal</td>\n",
       "      <td>130.0</td>\n",
       "      <td>Y</td>\n",
       "      <td>1.5</td>\n",
       "      <td>Flat</td>\n",
       "      <td>1</td>\n",
       "    </tr>\n",
       "    <tr>\n",
       "      <th>9</th>\n",
       "      <td>48</td>\n",
       "      <td>F</td>\n",
       "      <td>NaN</td>\n",
       "      <td>120.0</td>\n",
       "      <td>284.0</td>\n",
       "      <td>0.0</td>\n",
       "      <td>Normal</td>\n",
       "      <td>120.0</td>\n",
       "      <td>N</td>\n",
       "      <td>0.0</td>\n",
       "      <td>Up</td>\n",
       "      <td>0</td>\n",
       "    </tr>\n",
       "  </tbody>\n",
       "</table>\n",
       "</div>"
      ],
      "text/plain": [
       "   Age Sex ChestPainType  RestingBP  Cholesterol  FastingBS RestingECG  MaxHR  \\\n",
       "0   40   M           ATA      140.0        289.0        0.0     Normal  172.0   \n",
       "1   49   F           NAP      160.0          NaN        0.0     Normal  156.0   \n",
       "2   37   M           ATA      130.0          NaN        0.0         ST   98.0   \n",
       "3   48   F           ASY      138.0        214.0        0.0     Normal  108.0   \n",
       "4   54   M           NAP      150.0        195.0        0.0     Normal  122.0   \n",
       "5   39   M           NAP      120.0        339.0        0.0     Normal  170.0   \n",
       "6   45   F           ATA      130.0        237.0        0.0     Normal    NaN   \n",
       "7   54   M           ATA      110.0          NaN        NaN     Normal  142.0   \n",
       "8   37   M           ASY      140.0        207.0        0.0     Normal  130.0   \n",
       "9   48   F           NaN      120.0        284.0        0.0     Normal  120.0   \n",
       "\n",
       "  ExerciseAngina  Oldpeak ST_Slope  HeartDisease  \n",
       "0              N      0.0       Up             0  \n",
       "1              N      1.0     Flat             1  \n",
       "2              N      0.0       Up             0  \n",
       "3              Y      1.5     Flat             1  \n",
       "4              N      0.0       Up             0  \n",
       "5              N      0.0       Up             0  \n",
       "6              N      0.0       Up             0  \n",
       "7              N      0.0       Up             0  \n",
       "8              Y      1.5     Flat             1  \n",
       "9              N      0.0       Up             0  "
      ]
     },
     "execution_count": 685,
     "metadata": {},
     "output_type": "execute_result"
    }
   ],
   "source": [
    "df.head(10)"
   ]
  },
  {
   "cell_type": "code",
   "execution_count": 686,
   "metadata": {},
   "outputs": [
    {
     "data": {
      "text/plain": [
       "Age                0\n",
       "Sex                0\n",
       "ChestPainType     15\n",
       "RestingBP         79\n",
       "Cholesterol       54\n",
       "FastingBS          5\n",
       "RestingECG         0\n",
       "MaxHR              8\n",
       "ExerciseAngina     5\n",
       "Oldpeak            0\n",
       "ST_Slope          10\n",
       "HeartDisease       0\n",
       "dtype: int64"
      ]
     },
     "execution_count": 686,
     "metadata": {},
     "output_type": "execute_result"
    }
   ],
   "source": [
    "df.isna().sum()"
   ]
  },
  {
   "cell_type": "code",
   "execution_count": 687,
   "metadata": {},
   "outputs": [],
   "source": [
    "X = df.drop(['HeartDisease'], axis=1)\n",
    "y = df['HeartDisease'].values"
   ]
  },
  {
   "cell_type": "code",
   "execution_count": 688,
   "metadata": {},
   "outputs": [],
   "source": [
    "from sklearn.model_selection import train_test_split\n",
    "X_train, X_rem, y_train, y_rem = train_test_split(X, y, train_size=0.70, random_state=42)\n",
    "X_valid, X_test, y_valid, y_test = train_test_split(X_rem, y_rem, test_size=0.20)\n"
   ]
  },
  {
   "attachments": {},
   "cell_type": "markdown",
   "metadata": {},
   "source": [
    "Rzućmy okiem na atrybuty kategotyczne:"
   ]
  },
  {
   "cell_type": "code",
   "execution_count": 689,
   "metadata": {},
   "outputs": [
    {
     "data": {
      "text/plain": [
       "M    495\n",
       "F    147\n",
       "Name: Sex, dtype: int64"
      ]
     },
     "execution_count": 689,
     "metadata": {},
     "output_type": "execute_result"
    }
   ],
   "source": [
    "X_train['Sex'].value_counts()"
   ]
  },
  {
   "cell_type": "code",
   "execution_count": 690,
   "metadata": {},
   "outputs": [
    {
     "data": {
      "text/plain": [
       "ASY    348\n",
       "NAP    135\n",
       "ATA    121\n",
       "TA      27\n",
       "Name: ChestPainType, dtype: int64"
      ]
     },
     "execution_count": 690,
     "metadata": {},
     "output_type": "execute_result"
    }
   ],
   "source": [
    "X_train['ChestPainType'].value_counts()"
   ]
  },
  {
   "cell_type": "code",
   "execution_count": 691,
   "metadata": {},
   "outputs": [
    {
     "data": {
      "text/plain": [
       "0.0    501\n",
       "1.0    139\n",
       "Name: FastingBS, dtype: int64"
      ]
     },
     "execution_count": 691,
     "metadata": {},
     "output_type": "execute_result"
    }
   ],
   "source": [
    "X_train['FastingBS'].value_counts()"
   ]
  },
  {
   "cell_type": "code",
   "execution_count": 692,
   "metadata": {},
   "outputs": [
    {
     "data": {
      "text/plain": [
       "Normal    385\n",
       "LVH       131\n",
       "ST        126\n",
       "Name: RestingECG, dtype: int64"
      ]
     },
     "execution_count": 692,
     "metadata": {},
     "output_type": "execute_result"
    }
   ],
   "source": [
    "X_train['RestingECG'].value_counts()"
   ]
  },
  {
   "cell_type": "code",
   "execution_count": 693,
   "metadata": {},
   "outputs": [
    {
     "data": {
      "text/plain": [
       "N    376\n",
       "Y    262\n",
       "Name: ExerciseAngina, dtype: int64"
      ]
     },
     "execution_count": 693,
     "metadata": {},
     "output_type": "execute_result"
    }
   ],
   "source": [
    "X_train['ExerciseAngina'].value_counts()"
   ]
  },
  {
   "cell_type": "code",
   "execution_count": 694,
   "metadata": {},
   "outputs": [
    {
     "data": {
      "text/plain": [
       "Flat    323\n",
       "Up      272\n",
       "Down     38\n",
       "Name: ST_Slope, dtype: int64"
      ]
     },
     "execution_count": 694,
     "metadata": {},
     "output_type": "execute_result"
    }
   ],
   "source": [
    "X_train['ST_Slope'].value_counts()"
   ]
  },
  {
   "attachments": {},
   "cell_type": "markdown",
   "metadata": {},
   "source": [
    "Zbudujmy pipeline preprocessingu:"
   ]
  },
  {
   "cell_type": "code",
   "execution_count": 695,
   "metadata": {},
   "outputs": [],
   "source": [
    "from sklearn.base import BaseEstimator, TransformerMixin\n",
    "# A class to select numerical or categorical columns \n",
    "# since Scikit-Learn doesn't handle DataFrames yet\n",
    "class DataFrameSelector(BaseEstimator, TransformerMixin):\n",
    "    def __init__(self, attribute_names):\n",
    "        self.attribute_names = attribute_names\n",
    "    def fit(self, X, y=None):\n",
    "        return self\n",
    "    def transform(self, X):\n",
    "        return X[self.attribute_names]"
   ]
  },
  {
   "attachments": {},
   "cell_type": "markdown",
   "metadata": {},
   "source": [
    "Pipeline dla atrybutów numerycznych:"
   ]
  },
  {
   "cell_type": "code",
   "execution_count": 696,
   "metadata": {},
   "outputs": [],
   "source": [
    "from sklearn.pipeline import Pipeline\n",
    "from sklearn.impute import SimpleImputer\n",
    "\n",
    "\n",
    "num_pipeline = Pipeline([\n",
    "        (\"select_numeric\", DataFrameSelector(['RestingBP', 'Cholesterol', 'MaxHR'])),\n",
    "        (\"imputer\", SimpleImputer(strategy=\"median\")),\n",
    "    ])"
   ]
  },
  {
   "attachments": {},
   "cell_type": "markdown",
   "metadata": {},
   "source": [
    "Pipeline dla atrybutów kategorycznych:"
   ]
  },
  {
   "cell_type": "code",
   "execution_count": 697,
   "metadata": {},
   "outputs": [],
   "source": [
    "class MostFrequentImputer(BaseEstimator, TransformerMixin):\n",
    "    def fit(self, X, y=None):\n",
    "        self.most_frequent_ = pd.Series([X[c].value_counts().index[0] for c in X],\n",
    "                                        index=X.columns)\n",
    "        return self\n",
    "    def transform(self, X, y=None):\n",
    "        return X.fillna(self.most_frequent_)"
   ]
  },
  {
   "cell_type": "code",
   "execution_count": 698,
   "metadata": {},
   "outputs": [],
   "source": [
    "# from future_encoders import OneHotEncoder\n",
    "from sklearn.preprocessing import OneHotEncoder\n",
    "\n",
    "cat_pipeline = Pipeline([\n",
    "        (\"select_cat\", DataFrameSelector([\"Sex\", \"ChestPainType\", \"FastingBS\", \"RestingECG\", \"ExerciseAngina\", \"ST_Slope\"])),\n",
    "        (\"imputer\", MostFrequentImputer()),\n",
    "        (\"cat_encoder\", OneHotEncoder(sparse=False, handle_unknown = 'ignore')),\n",
    "    ])"
   ]
  },
  {
   "attachments": {},
   "cell_type": "markdown",
   "metadata": {},
   "source": [
    "Pierwszy z modeli, który weźmiemy pod uwagę to Random Forest:"
   ]
  },
  {
   "cell_type": "code",
   "execution_count": 699,
   "metadata": {},
   "outputs": [],
   "source": [
    "from sklearn.model_selection import StratifiedKFold\n",
    "\n",
    "seed=123\n",
    "kfold = StratifiedKFold(n_splits=5, random_state=seed, shuffle=True)"
   ]
  },
  {
   "cell_type": "code",
   "execution_count": 700,
   "metadata": {},
   "outputs": [],
   "source": [
    "from sklearn.pipeline import FeatureUnion\n",
    "from sklearn.ensemble import RandomForestClassifier\n",
    "from sklearn.preprocessing import StandardScaler\n",
    "\n",
    "\n",
    "preprocess_pipeline = FeatureUnion(transformer_list=[\n",
    "        (\"num_pipeline\", num_pipeline),\n",
    "        (\"cat_pipeline\", cat_pipeline),\n",
    "    ])\n",
    "\n",
    "pipe = Pipeline([\n",
    "        ('preprocessing', preprocess_pipeline),\n",
    "        ('scale', StandardScaler()),\n",
    "        ('classifier', RandomForestClassifier())])\n",
    "\n",
    "param_grid = {\n",
    "    'classifier__n_estimators': [100, 200],\n",
    "    'classifier__max_features': ['sqrt'],\n",
    "    'classifier__max_depth': [6, 7, 8],\n",
    "    'classifier__min_samples_split': [2, 5],\n",
    "    'classifier__min_samples_leaf': [1, 2],\n",
    "    'classifier__random_state': [0]\n",
    "}\n"
   ]
  },
  {
   "cell_type": "code",
   "execution_count": 701,
   "metadata": {},
   "outputs": [
    {
     "name": "stderr",
     "output_type": "stream",
     "text": [
      "c:\\Python311\\Lib\\site-packages\\sklearn\\preprocessing\\_encoders.py:868: FutureWarning: `sparse` was renamed to `sparse_output` in version 1.2 and will be removed in 1.4. `sparse_output` is ignored unless you leave `sparse` to its default value.\n",
      "  warnings.warn(\n"
     ]
    }
   ],
   "source": [
    "from sklearn.model_selection import GridSearchCV\n",
    "from sklearn.metrics import accuracy_score, classification_report\n",
    "\n",
    "grid_search1 = GridSearchCV(pipe, param_grid=param_grid, cv=kfold, n_jobs=-1)\n",
    "grid_search1.fit(X_train, y_train)\n",
    "grid_search1.best_params_\n",
    "ypred = grid_search1.predict(X_test)\n",
    "accuracy = accuracy_score(y_test, ypred)"
   ]
  },
  {
   "cell_type": "code",
   "execution_count": 702,
   "metadata": {},
   "outputs": [
    {
     "name": "stdout",
     "output_type": "stream",
     "text": [
      "Accuracy:  0.9107142857142857\n"
     ]
    }
   ],
   "source": [
    "print(\"Accuracy: \", accuracy)"
   ]
  },
  {
   "cell_type": "code",
   "execution_count": 703,
   "metadata": {},
   "outputs": [
    {
     "name": "stdout",
     "output_type": "stream",
     "text": [
      "              precision    recall  f1-score   support\n",
      "\n",
      "           0       0.86      0.90      0.88        21\n",
      "           1       0.94      0.91      0.93        35\n",
      "\n",
      "    accuracy                           0.91        56\n",
      "   macro avg       0.90      0.91      0.91        56\n",
      "weighted avg       0.91      0.91      0.91        56\n",
      "\n"
     ]
    }
   ],
   "source": [
    "print(classification_report(y_test, ypred))"
   ]
  },
  {
   "cell_type": "code",
   "execution_count": 704,
   "metadata": {},
   "outputs": [
    {
     "data": {
      "text/plain": [
       "<Axes: >"
      ]
     },
     "execution_count": 704,
     "metadata": {},
     "output_type": "execute_result"
    },
    {
     "data": {
      "image/png": "[encoded data removed]",
      "text/plain": [
       "<Figure size 640x480 with 2 Axes>"
      ]
     },
     "metadata": {},
     "output_type": "display_data"
    }
   ],
   "source": [
    "from sklearn.metrics import confusion_matrix\n",
    "\n",
    "conf_mat = confusion_matrix(y_test, ypred)\n",
    "sns.heatmap(conf_mat, annot = True, cmap = 'viridis')"
   ]
  },
  {
   "attachments": {},
   "cell_type": "markdown",
   "metadata": {},
   "source": [
    "SVM z jądrem rbf:"
   ]
  },
  {
   "cell_type": "code",
   "execution_count": 705,
   "metadata": {},
   "outputs": [],
   "source": [
    "from sklearn.svm import SVC\n",
    "\n",
    "pipe = Pipeline([\n",
    "        ('preprocessing', preprocess_pipeline),\n",
    "        ('scale', StandardScaler()),\n",
    "        ('classifier', SVC(kernel='rbf'))])\n",
    "\n",
    "param_grid = {\n",
    "    'classifier__C': [0.001, 0.01, 0.1, 1, 10, 100, 1000],\n",
    "    'classifier__gamma': [0.001, 0.01, 0.1, 1, 10 ,100, 1000],\n",
    "}"
   ]
  },
  {
   "cell_type": "code",
   "execution_count": 706,
   "metadata": {},
   "outputs": [
    {
     "name": "stderr",
     "output_type": "stream",
     "text": [
      "c:\\Python311\\Lib\\site-packages\\sklearn\\preprocessing\\_encoders.py:868: FutureWarning: `sparse` was renamed to `sparse_output` in version 1.2 and will be removed in 1.4. `sparse_output` is ignored unless you leave `sparse` to its default value.\n",
      "  warnings.warn(\n"
     ]
    }
   ],
   "source": [
    "grid_search2 = GridSearchCV(pipe, param_grid=param_grid, cv=kfold, n_jobs=-1)\n",
    "grid_search2.fit(X_train, y_train)\n",
    "grid_search2.best_params_\n",
    "ypred = grid_search2.predict(X_test)\n",
    "accuracy = accuracy_score(y_test, ypred)"
   ]
  },
  {
   "cell_type": "code",
   "execution_count": 707,
   "metadata": {},
   "outputs": [
    {
     "name": "stdout",
     "output_type": "stream",
     "text": [
      "Accuracy:  0.9285714285714286\n"
     ]
    }
   ],
   "source": [
    "print(\"Accuracy: \", accuracy)"
   ]
  },
  {
   "attachments": {},
   "cell_type": "markdown",
   "metadata": {},
   "source": [
    "SVM z jądem poly:"
   ]
  },
  {
   "cell_type": "code",
   "execution_count": 708,
   "metadata": {},
   "outputs": [],
   "source": [
    "from sklearn.svm import SVC\n",
    "\n",
    "pipe = Pipeline([\n",
    "        ('preprocessing', preprocess_pipeline),\n",
    "        ('scale', StandardScaler()),\n",
    "        ('classifier', SVC(kernel='poly'))])\n",
    "\n",
    "param_grid = {\n",
    "    'classifier__C': [0.01, 0.1, 1],\n",
    "    'classifier__gamma': [0.01, 0.1, 1]\n",
    "}"
   ]
  },
  {
   "cell_type": "code",
   "execution_count": 709,
   "metadata": {},
   "outputs": [
    {
     "name": "stderr",
     "output_type": "stream",
     "text": [
      "c:\\Python311\\Lib\\site-packages\\sklearn\\preprocessing\\_encoders.py:868: FutureWarning: `sparse` was renamed to `sparse_output` in version 1.2 and will be removed in 1.4. `sparse_output` is ignored unless you leave `sparse` to its default value.\n",
      "  warnings.warn(\n"
     ]
    }
   ],
   "source": [
    "grid_search3 = GridSearchCV(pipe, param_grid=param_grid, cv=kfold, n_jobs=-1)\n",
    "grid_search3.fit(X_train, y_train)\n",
    "grid_search3.best_params_\n",
    "ypred = grid_search3.predict(X_test)\n",
    "accuracy = accuracy_score(y_test, ypred)"
   ]
  },
  {
   "cell_type": "code",
   "execution_count": 710,
   "metadata": {},
   "outputs": [
    {
     "name": "stdout",
     "output_type": "stream",
     "text": [
      "Accuracy:  0.9107142857142857\n"
     ]
    }
   ],
   "source": [
    "print(\"Accuracy: \", accuracy)"
   ]
  },
  {
   "attachments": {},
   "cell_type": "markdown",
   "metadata": {},
   "source": [
    "XGBClassifier:"
   ]
  },
  {
   "cell_type": "code",
   "execution_count": 711,
   "metadata": {},
   "outputs": [],
   "source": [
    "import xgboost\n",
    "\n",
    "pipe = Pipeline([\n",
    "        ('preprocessing', preprocess_pipeline),\n",
    "        ('scale', StandardScaler()),\n",
    "        ('classifier', xgboost.XGBClassifier())])\n",
    "\n",
    "param_grid = {\n",
    "    'classifier__n_estimators': [2, 5, 10, 20],\n",
    "    'classifier__learning_rate': [0.5, 1, 0.1, 2]\n",
    "}"
   ]
  },
  {
   "cell_type": "code",
   "execution_count": 712,
   "metadata": {},
   "outputs": [
    {
     "name": "stderr",
     "output_type": "stream",
     "text": [
      "c:\\Python311\\Lib\\site-packages\\sklearn\\preprocessing\\_encoders.py:868: FutureWarning: `sparse` was renamed to `sparse_output` in version 1.2 and will be removed in 1.4. `sparse_output` is ignored unless you leave `sparse` to its default value.\n",
      "  warnings.warn(\n"
     ]
    }
   ],
   "source": [
    "grid_search4 = GridSearchCV(pipe, param_grid=param_grid, cv=kfold, n_jobs=-1)\n",
    "grid_search4.fit(X_train, y_train)\n",
    "grid_search4.best_params_\n",
    "ypred = grid_search4.predict(X_test)\n",
    "accuracy = accuracy_score(y_test, ypred)"
   ]
  },
  {
   "cell_type": "code",
   "execution_count": 713,
   "metadata": {},
   "outputs": [
    {
     "name": "stdout",
     "output_type": "stream",
     "text": [
      "Accuracy:  0.9107142857142857\n"
     ]
    }
   ],
   "source": [
    "print(\"Accuracy: \", accuracy)"
   ]
  },
  {
   "cell_type": "code",
   "execution_count": 714,
   "metadata": {},
   "outputs": [
    {
     "name": "stdout",
     "output_type": "stream",
     "text": [
      "RandomForest\n",
      "R^2: 0.9411764705882353\n",
      "recall_score: 0.9142857142857143\n",
      "f1_score: 0.9275362318840579\n",
      "accuracy_score: 0.9107142857142857\n",
      "roc_score: 0.9095238095238095\n",
      "SVM rbf\n",
      "R^2: 0.9428571428571428\n",
      "recall_score: 0.9428571428571428\n",
      "f1_score: 0.9428571428571428\n",
      "accuracy_score: 0.9285714285714286\n",
      "roc_score: 0.9238095238095237\n",
      "SVM poly\n",
      "R^2: 0.9411764705882353\n",
      "recall_score: 0.9142857142857143\n",
      "f1_score: 0.9275362318840579\n",
      "accuracy_score: 0.9107142857142857\n",
      "roc_score: 0.9095238095238095\n",
      "XGBoost\n",
      "R^2: 0.9411764705882353\n",
      "recall_score: 0.9142857142857143\n",
      "f1_score: 0.9275362318840579\n",
      "accuracy_score: 0.9107142857142857\n",
      "roc_score: 0.9095238095238095\n"
     ]
    }
   ],
   "source": [
    "from sklearn import metrics\n",
    "from sklearn.metrics import roc_auc_score\n",
    "\n",
    "\n",
    "models = []\n",
    "models.append(('RandomForest', grid_search1.best_estimator_))\n",
    "models.append(('SVM rbf', grid_search2.best_estimator_))\n",
    "models.append(('SVM poly', grid_search3.best_estimator_))\n",
    "models.append(('XGBoost', grid_search4.best_estimator_))\n",
    "\n",
    "\n",
    "precision_score = []\n",
    "recall_score = []\n",
    "f1_score = []\n",
    "accuracy_score = []\n",
    "roc_score = []\n",
    "for name, model in models:\n",
    "    print(name)\n",
    "    print(\"R^2: {}\".format(metrics.precision_score(y_test, model.predict(X_test)) ))\n",
    "    print(\"recall_score: {}\".format( metrics.recall_score(y_test, model.predict(X_test)) ))\n",
    "    print(\"f1_score: {}\".format( metrics.f1_score(y_test, model.predict(X_test)) ))\n",
    "    print(\"accuracy_score: {}\".format( metrics.accuracy_score(y_test, model.predict(X_test)) ))\n",
    "    print(\"roc_score: {}\".format( roc_auc_score(y_test, model.predict(X_test))))\n",
    "    precision_score.append(metrics.precision_score(y_test, model.predict(X_test)))\n",
    "    recall_score.append(metrics.recall_score(y_test, model.predict(X_test)))\n",
    "    f1_score.append( metrics.f1_score(y_test, model.predict(X_test)))\n",
    "    accuracy_score.append(metrics.accuracy_score(y_test, model.predict(X_test)))\n",
    "    roc_score.append(roc_auc_score(y_test, model.predict(X_test)))"
   ]
  },
  {
   "cell_type": "code",
   "execution_count": 715,
   "metadata": {},
   "outputs": [
    {
     "data": {
      "text/html": [
       "<div>\n",
       "<style scoped>\n",
       "    .dataframe tbody tr th:only-of-type {\n",
       "        vertical-align: middle;\n",
       "    }\n",
       "\n",
       "    .dataframe tbody tr th {\n",
       "        vertical-align: top;\n",
       "    }\n",
       "\n",
       "    .dataframe thead th {\n",
       "        text-align: right;\n",
       "    }\n",
       "</style>\n",
       "<table border=\"1\" class=\"dataframe\">\n",
       "  <thead>\n",
       "    <tr style=\"text-align: right;\">\n",
       "      <th></th>\n",
       "      <th>Method</th>\n",
       "      <th>precision score</th>\n",
       "      <th>recall score</th>\n",
       "      <th>f1 score</th>\n",
       "      <th>accuracy score</th>\n",
       "      <th>roc score</th>\n",
       "    </tr>\n",
       "  </thead>\n",
       "  <tbody>\n",
       "    <tr>\n",
       "      <th>0</th>\n",
       "      <td>RandomForest</td>\n",
       "      <td>0.941176</td>\n",
       "      <td>0.914286</td>\n",
       "      <td>0.927536</td>\n",
       "      <td>0.910714</td>\n",
       "      <td>0.909524</td>\n",
       "    </tr>\n",
       "    <tr>\n",
       "      <th>1</th>\n",
       "      <td>SVM rbf</td>\n",
       "      <td>0.942857</td>\n",
       "      <td>0.942857</td>\n",
       "      <td>0.942857</td>\n",
       "      <td>0.928571</td>\n",
       "      <td>0.923810</td>\n",
       "    </tr>\n",
       "    <tr>\n",
       "      <th>2</th>\n",
       "      <td>SVM poly</td>\n",
       "      <td>0.941176</td>\n",
       "      <td>0.914286</td>\n",
       "      <td>0.927536</td>\n",
       "      <td>0.910714</td>\n",
       "      <td>0.909524</td>\n",
       "    </tr>\n",
       "    <tr>\n",
       "      <th>3</th>\n",
       "      <td>XGBoost</td>\n",
       "      <td>0.941176</td>\n",
       "      <td>0.914286</td>\n",
       "      <td>0.927536</td>\n",
       "      <td>0.910714</td>\n",
       "      <td>0.909524</td>\n",
       "    </tr>\n",
       "  </tbody>\n",
       "</table>\n",
       "</div>"
      ],
      "text/plain": [
       "         Method  precision score  recall score  f1 score  accuracy score  \\\n",
       "0  RandomForest         0.941176      0.914286  0.927536        0.910714   \n",
       "1       SVM rbf         0.942857      0.942857  0.942857        0.928571   \n",
       "2      SVM poly         0.941176      0.914286  0.927536        0.910714   \n",
       "3       XGBoost         0.941176      0.914286  0.927536        0.910714   \n",
       "\n",
       "   roc score  \n",
       "0   0.909524  \n",
       "1   0.923810  \n",
       "2   0.909524  \n",
       "3   0.909524  "
      ]
     },
     "execution_count": 715,
     "metadata": {},
     "output_type": "execute_result"
    }
   ],
   "source": [
    "d = {\n",
    "    'precision score': precision_score,\n",
    "    'recall score': recall_score,\n",
    "    'f1 score': f1_score,\n",
    "    'accuracy score': accuracy_score,\n",
    "    'roc score': roc_score \n",
    "}\n",
    "\n",
    "df = pd.DataFrame(data=d)\n",
    "df.insert(loc=0, column='Method', value=['RandomForest', 'SVM rbf', 'SVM poly', 'XGBoost'])\n",
    "df"
   ]
  },
  {
   "cell_type": "code",
   "execution_count": 716,
   "metadata": {},
   "outputs": [
    {
     "data": {
      "text/plain": [
       "(642, 11)"
      ]
     },
     "execution_count": 716,
     "metadata": {},
     "output_type": "execute_result"
    }
   ],
   "source": [
    "X_train.shape"
   ]
  },
  {
   "attachments": {},
   "cell_type": "markdown",
   "metadata": {},
   "source": [
    "Sieci neuronowe:"
   ]
  },
  {
   "cell_type": "code",
   "execution_count": 717,
   "metadata": {},
   "outputs": [],
   "source": [
    "from keras.models import Sequential\n",
    "from keras.layers import Dense\n",
    "from keras.callbacks import History"
   ]
  },
  {
   "cell_type": "code",
   "execution_count": 718,
   "metadata": {},
   "outputs": [
    {
     "name": "stdout",
     "output_type": "stream",
     "text": [
      "Model: \"sequential_26\"\n",
      "_________________________________________________________________\n",
      " Layer (type)                Output Shape              Param #   \n",
      "=================================================================\n",
      " dense_94 (Dense)            (None, 32)                640       \n",
      "                                                                 \n",
      " dense_95 (Dense)            (None, 24)                792       \n",
      "                                                                 \n",
      " dense_96 (Dense)            (None, 24)                600       \n",
      "                                                                 \n",
      " dense_97 (Dense)            (None, 24)                600       \n",
      "                                                                 \n",
      " dense_98 (Dense)            (None, 1)                 25        \n",
      "                                                                 \n",
      "=================================================================\n",
      "Total params: 2,657\n",
      "Trainable params: 2,657\n",
      "Non-trainable params: 0\n",
      "_________________________________________________________________\n"
     ]
    }
   ],
   "source": [
    "history = History()\n",
    "model = Sequential()\n",
    "model.add(Dense(32,activation=\"relu\", input_shape=(19,)))\n",
    "model.add(Dense(24,activation=\"relu\"))\n",
    "model.add(Dense(24,activation=\"relu\"))\n",
    "model.add(Dense(24,activation=\"relu\"))\n",
    "model.add(Dense(1,activation=\"sigmoid\"))\n",
    "model.summary()"
   ]
  },
  {
   "cell_type": "code",
   "execution_count": 719,
   "metadata": {},
   "outputs": [],
   "source": [
    "model.compile(loss=\"binary_crossentropy\", optimizer=\"Adam\", metrics=[\"accuracy\"])\n"
   ]
  },
  {
   "cell_type": "code",
   "execution_count": 720,
   "metadata": {},
   "outputs": [],
   "source": [
    "pipe = Pipeline([\n",
    "        ('preprocessing', preprocess_pipeline),\n",
    "        ('scale', StandardScaler()),\n",
    "        ('model', model)])"
   ]
  },
  {
   "cell_type": "code",
   "execution_count": 721,
   "metadata": {},
   "outputs": [
    {
     "data": {
      "text/plain": [
       "(56, 11)"
      ]
     },
     "execution_count": 721,
     "metadata": {},
     "output_type": "execute_result"
    }
   ],
   "source": [
    "X_test.shape"
   ]
  },
  {
   "cell_type": "code",
   "execution_count": 722,
   "metadata": {},
   "outputs": [],
   "source": [
    "# X_val, _, y_val, _ = train_test_split(X_test, y_test, test_size=0.5, random_state=42)\n",
    "# y_val.shape\n",
    "\n"
   ]
  },
  {
   "cell_type": "code",
   "execution_count": 723,
   "metadata": {},
   "outputs": [
    {
     "name": "stdout",
     "output_type": "stream",
     "text": [
      "Epoch 1/50\n"
     ]
    },
    {
     "name": "stderr",
     "output_type": "stream",
     "text": [
      "c:\\Python311\\Lib\\site-packages\\sklearn\\preprocessing\\_encoders.py:868: FutureWarning: `sparse` was renamed to `sparse_output` in version 1.2 and will be removed in 1.4. `sparse_output` is ignored unless you leave `sparse` to its default value.\n",
      "  warnings.warn(\n",
      "c:\\Python311\\Lib\\site-packages\\sklearn\\preprocessing\\_encoders.py:868: FutureWarning: `sparse` was renamed to `sparse_output` in version 1.2 and will be removed in 1.4. `sparse_output` is ignored unless you leave `sparse` to its default value.\n",
      "  warnings.warn(\n"
     ]
    },
    {
     "name": "stdout",
     "output_type": "stream",
     "text": [
      "21/21 [==============================] - 1s 14ms/step - loss: 0.6696 - accuracy: 0.6526 - val_loss: 0.6284 - val_accuracy: 0.8091\n",
      "Epoch 2/50\n",
      "21/21 [==============================] - 0s 3ms/step - loss: 0.5809 - accuracy: 0.7944 - val_loss: 0.5122 - val_accuracy: 0.8091\n",
      "Epoch 3/50\n",
      "21/21 [==============================] - 0s 4ms/step - loss: 0.4721 - accuracy: 0.8349 - val_loss: 0.4168 - val_accuracy: 0.8182\n",
      "Epoch 4/50\n",
      "21/21 [==============================] - 0s 4ms/step - loss: 0.4047 - accuracy: 0.8442 - val_loss: 0.3824 - val_accuracy: 0.8273\n",
      "Epoch 5/50\n",
      "21/21 [==============================] - 0s 3ms/step - loss: 0.3758 - accuracy: 0.8489 - val_loss: 0.3589 - val_accuracy: 0.8318\n",
      "Epoch 6/50\n",
      "21/21 [==============================] - 0s 3ms/step - loss: 0.3616 - accuracy: 0.8520 - val_loss: 0.3578 - val_accuracy: 0.8500\n",
      "Epoch 7/50\n",
      "21/21 [==============================] - 0s 4ms/step - loss: 0.3516 - accuracy: 0.8520 - val_loss: 0.3487 - val_accuracy: 0.8545\n",
      "Epoch 8/50\n",
      "21/21 [==============================] - 0s 3ms/step - loss: 0.3429 - accuracy: 0.8583 - val_loss: 0.3402 - val_accuracy: 0.8636\n",
      "Epoch 9/50\n",
      "21/21 [==============================] - 0s 3ms/step - loss: 0.3348 - accuracy: 0.8629 - val_loss: 0.3365 - val_accuracy: 0.8682\n",
      "Epoch 10/50\n",
      "21/21 [==============================] - 0s 3ms/step - loss: 0.3270 - accuracy: 0.8583 - val_loss: 0.3303 - val_accuracy: 0.8773\n",
      "Epoch 11/50\n",
      "21/21 [==============================] - 0s 3ms/step - loss: 0.3215 - accuracy: 0.8676 - val_loss: 0.3363 - val_accuracy: 0.8773\n",
      "Epoch 12/50\n",
      "21/21 [==============================] - 0s 3ms/step - loss: 0.3142 - accuracy: 0.8769 - val_loss: 0.3339 - val_accuracy: 0.8727\n",
      "Epoch 13/50\n",
      "21/21 [==============================] - 0s 4ms/step - loss: 0.3077 - accuracy: 0.8738 - val_loss: 0.3257 - val_accuracy: 0.8864\n",
      "Epoch 14/50\n",
      "21/21 [==============================] - 0s 4ms/step - loss: 0.3014 - accuracy: 0.8801 - val_loss: 0.3187 - val_accuracy: 0.8864\n",
      "Epoch 15/50\n",
      "21/21 [==============================] - 0s 4ms/step - loss: 0.2952 - accuracy: 0.8801 - val_loss: 0.3163 - val_accuracy: 0.8727\n",
      "Epoch 16/50\n",
      "21/21 [==============================] - 0s 4ms/step - loss: 0.2908 - accuracy: 0.8816 - val_loss: 0.3132 - val_accuracy: 0.8727\n",
      "Epoch 17/50\n",
      "21/21 [==============================] - 0s 5ms/step - loss: 0.2845 - accuracy: 0.8847 - val_loss: 0.3104 - val_accuracy: 0.8818\n",
      "Epoch 18/50\n",
      "21/21 [==============================] - 0s 6ms/step - loss: 0.2805 - accuracy: 0.8863 - val_loss: 0.3098 - val_accuracy: 0.8773\n",
      "Epoch 19/50\n",
      "21/21 [==============================] - 0s 5ms/step - loss: 0.2730 - accuracy: 0.8941 - val_loss: 0.3056 - val_accuracy: 0.8773\n",
      "Epoch 20/50\n",
      "21/21 [==============================] - 0s 4ms/step - loss: 0.2678 - accuracy: 0.8941 - val_loss: 0.3055 - val_accuracy: 0.8727\n",
      "Epoch 21/50\n",
      "21/21 [==============================] - 0s 5ms/step - loss: 0.2864 - accuracy: 0.8816 - val_loss: 0.3164 - val_accuracy: 0.8773\n",
      "Epoch 22/50\n",
      "21/21 [==============================] - 0s 5ms/step - loss: 0.2649 - accuracy: 0.8988 - val_loss: 0.3094 - val_accuracy: 0.8773\n",
      "Epoch 23/50\n",
      "21/21 [==============================] - 0s 3ms/step - loss: 0.2565 - accuracy: 0.8972 - val_loss: 0.3049 - val_accuracy: 0.8773\n",
      "Epoch 24/50\n",
      "21/21 [==============================] - 0s 3ms/step - loss: 0.2513 - accuracy: 0.8956 - val_loss: 0.3044 - val_accuracy: 0.8636\n",
      "Epoch 25/50\n",
      "21/21 [==============================] - 0s 4ms/step - loss: 0.2471 - accuracy: 0.8972 - val_loss: 0.3005 - val_accuracy: 0.8818\n",
      "Epoch 26/50\n",
      "21/21 [==============================] - 0s 4ms/step - loss: 0.2418 - accuracy: 0.9003 - val_loss: 0.2956 - val_accuracy: 0.8864\n",
      "Epoch 27/50\n",
      "21/21 [==============================] - 0s 4ms/step - loss: 0.2378 - accuracy: 0.9019 - val_loss: 0.2981 - val_accuracy: 0.8727\n",
      "Epoch 28/50\n",
      "21/21 [==============================] - 0s 4ms/step - loss: 0.2352 - accuracy: 0.9034 - val_loss: 0.2874 - val_accuracy: 0.8955\n",
      "Epoch 29/50\n",
      "21/21 [==============================] - 0s 3ms/step - loss: 0.2415 - accuracy: 0.8972 - val_loss: 0.2999 - val_accuracy: 0.8727\n",
      "Epoch 30/50\n",
      "21/21 [==============================] - 0s 3ms/step - loss: 0.2310 - accuracy: 0.9034 - val_loss: 0.3010 - val_accuracy: 0.8727\n",
      "Epoch 31/50\n",
      "21/21 [==============================] - 0s 4ms/step - loss: 0.2275 - accuracy: 0.9081 - val_loss: 0.3091 - val_accuracy: 0.8727\n",
      "Epoch 32/50\n",
      "21/21 [==============================] - 0s 4ms/step - loss: 0.2335 - accuracy: 0.9034 - val_loss: 0.3162 - val_accuracy: 0.8682\n",
      "Epoch 33/50\n",
      "21/21 [==============================] - 0s 3ms/step - loss: 0.2238 - accuracy: 0.9065 - val_loss: 0.3073 - val_accuracy: 0.8773\n",
      "Epoch 34/50\n",
      "21/21 [==============================] - 0s 3ms/step - loss: 0.2140 - accuracy: 0.9221 - val_loss: 0.3076 - val_accuracy: 0.8818\n",
      "Epoch 35/50\n",
      "21/21 [==============================] - 0s 3ms/step - loss: 0.2173 - accuracy: 0.9159 - val_loss: 0.3247 - val_accuracy: 0.8591\n",
      "Epoch 36/50\n",
      "21/21 [==============================] - 0s 4ms/step - loss: 0.2105 - accuracy: 0.9174 - val_loss: 0.3068 - val_accuracy: 0.8864\n",
      "Epoch 37/50\n",
      "21/21 [==============================] - 0s 3ms/step - loss: 0.2047 - accuracy: 0.9206 - val_loss: 0.3162 - val_accuracy: 0.8864\n",
      "Epoch 38/50\n",
      "21/21 [==============================] - 0s 3ms/step - loss: 0.1984 - accuracy: 0.9252 - val_loss: 0.3157 - val_accuracy: 0.8727\n",
      "Epoch 39/50\n",
      "21/21 [==============================] - 0s 4ms/step - loss: 0.1962 - accuracy: 0.9315 - val_loss: 0.3177 - val_accuracy: 0.8818\n",
      "Epoch 40/50\n",
      "21/21 [==============================] - 0s 4ms/step - loss: 0.1938 - accuracy: 0.9268 - val_loss: 0.3134 - val_accuracy: 0.8909\n",
      "Epoch 41/50\n",
      "21/21 [==============================] - 0s 3ms/step - loss: 0.1873 - accuracy: 0.9268 - val_loss: 0.3172 - val_accuracy: 0.8727\n",
      "Epoch 42/50\n",
      "21/21 [==============================] - 0s 3ms/step - loss: 0.1868 - accuracy: 0.9283 - val_loss: 0.3256 - val_accuracy: 0.8773\n",
      "Epoch 43/50\n",
      "21/21 [==============================] - 0s 4ms/step - loss: 0.1822 - accuracy: 0.9283 - val_loss: 0.3188 - val_accuracy: 0.8909\n",
      "Epoch 44/50\n",
      "21/21 [==============================] - 0s 4ms/step - loss: 0.1869 - accuracy: 0.9361 - val_loss: 0.3445 - val_accuracy: 0.8773\n",
      "Epoch 45/50\n",
      "21/21 [==============================] - 0s 3ms/step - loss: 0.1848 - accuracy: 0.9299 - val_loss: 0.3507 - val_accuracy: 0.8727\n",
      "Epoch 46/50\n",
      "21/21 [==============================] - 0s 3ms/step - loss: 0.1758 - accuracy: 0.9408 - val_loss: 0.3333 - val_accuracy: 0.8864\n",
      "Epoch 47/50\n",
      "21/21 [==============================] - 0s 4ms/step - loss: 0.1711 - accuracy: 0.9424 - val_loss: 0.3385 - val_accuracy: 0.8727\n",
      "Epoch 48/50\n",
      "21/21 [==============================] - 0s 4ms/step - loss: 0.1800 - accuracy: 0.9283 - val_loss: 0.3446 - val_accuracy: 0.8864\n",
      "Epoch 49/50\n",
      "21/21 [==============================] - 0s 4ms/step - loss: 0.1699 - accuracy: 0.9408 - val_loss: 0.3537 - val_accuracy: 0.8682\n",
      "Epoch 50/50\n",
      "21/21 [==============================] - 0s 3ms/step - loss: 0.1623 - accuracy: 0.9517 - val_loss: 0.3454 - val_accuracy: 0.8727\n"
     ]
    }
   ],
   "source": [
    "preprocess_pipeline.fit(X_valid)\n",
    "X_valid_transformed = preprocess_pipeline.transform(X_valid)\n",
    "scaler = StandardScaler()\n",
    "scaler.fit(X_valid_transformed)\n",
    "X_valid_scaled_transformed = scaler.transform(X_valid_transformed)\n",
    "history = pipe.fit(X_train, y_train, model__validation_data= (X_valid_scaled_transformed, y_valid), model__batch_size=32, model__epochs=50)\n",
    "# output = pipe.named_steps['preprocessing'].transform(X_train)\n",
    "# scaler = StandardScaler()\n",
    "# scaler.fit(output)\n",
    "# output_scaled = scaler.transform(output)\n",
    "# chuj = pd.DataFrame(output_scaled)\n",
    "# chuj.dtypes\n",
    "# chuj.isnull().sum()\n",
    "\n",
    "# output1 = pipe.named_steps['preprocessing'].transform(X_test)\n",
    "# scaler1 = StandardScaler()\n",
    "# scaler1.fit(output)\n",
    "# output_scaled1 = scaler1.transform(output)\n",
    "# type(output_scaled[19][0])"
   ]
  },
  {
   "cell_type": "code",
   "execution_count": 734,
   "metadata": {},
   "outputs": [
    {
     "data": {
      "text/plain": [
       "{'loss': [0.6695572137832642,\n",
       "  0.5809057950973511,\n",
       "  0.47205299139022827,\n",
       "  0.40472620725631714,\n",
       "  0.37579917907714844,\n",
       "  0.3616456687450409,\n",
       "  0.3515947163105011,\n",
       "  0.3429388105869293,\n",
       "  0.3348357677459717,\n",
       "  0.327002614736557,\n",
       "  0.3214638829231262,\n",
       "  0.3142451047897339,\n",
       "  0.3077006936073303,\n",
       "  0.30144912004470825,\n",
       "  0.2952147424221039,\n",
       "  0.29082366824150085,\n",
       "  0.28452762961387634,\n",
       "  0.28049027919769287,\n",
       "  0.27296212315559387,\n",
       "  0.26783108711242676,\n",
       "  0.28635460138320923,\n",
       "  0.26488229632377625,\n",
       "  0.25645899772644043,\n",
       "  0.25127533078193665,\n",
       "  0.2471325397491455,\n",
       "  0.24179492890834808,\n",
       "  0.23781165480613708,\n",
       "  0.2351757287979126,\n",
       "  0.24145668745040894,\n",
       "  0.23097868263721466,\n",
       "  0.22748874127864838,\n",
       "  0.23353040218353271,\n",
       "  0.22380226850509644,\n",
       "  0.21397767961025238,\n",
       "  0.21732313930988312,\n",
       "  0.21050740778446198,\n",
       "  0.2046602964401245,\n",
       "  0.19838030636310577,\n",
       "  0.19620628654956818,\n",
       "  0.19380302727222443,\n",
       "  0.1872808188199997,\n",
       "  0.18680904805660248,\n",
       "  0.1822056621313095,\n",
       "  0.18692442774772644,\n",
       "  0.18480706214904785,\n",
       "  0.17581576108932495,\n",
       "  0.17107461392879486,\n",
       "  0.17995737493038177,\n",
       "  0.16989509761333466,\n",
       "  0.16230034828186035],\n",
       " 'accuracy': [0.6526479721069336,\n",
       "  0.7943925261497498,\n",
       "  0.8348909616470337,\n",
       "  0.8442367315292358,\n",
       "  0.8489096760749817,\n",
       "  0.8520249128341675,\n",
       "  0.8520249128341675,\n",
       "  0.8582554459571838,\n",
       "  0.8629283308982849,\n",
       "  0.8582554459571838,\n",
       "  0.8676012754440308,\n",
       "  0.8769470453262329,\n",
       "  0.8738317489624023,\n",
       "  0.8800622820854187,\n",
       "  0.8800622820854187,\n",
       "  0.881619930267334,\n",
       "  0.8847352266311646,\n",
       "  0.8862928152084351,\n",
       "  0.8940809965133667,\n",
       "  0.8940809965133667,\n",
       "  0.881619930267334,\n",
       "  0.8987538814544678,\n",
       "  0.8971962332725525,\n",
       "  0.895638644695282,\n",
       "  0.8971962332725525,\n",
       "  0.9003115296363831,\n",
       "  0.9018691778182983,\n",
       "  0.9034267663955688,\n",
       "  0.8971962332725525,\n",
       "  0.9034267663955688,\n",
       "  0.9080997109413147,\n",
       "  0.9034267663955688,\n",
       "  0.9065420627593994,\n",
       "  0.9221183657646179,\n",
       "  0.9158878326416016,\n",
       "  0.9174454808235168,\n",
       "  0.9205607771873474,\n",
       "  0.9252336621284485,\n",
       "  0.9314641952514648,\n",
       "  0.926791250705719,\n",
       "  0.926791250705719,\n",
       "  0.9283488988876343,\n",
       "  0.9283488988876343,\n",
       "  0.9361370801925659,\n",
       "  0.9299065470695496,\n",
       "  0.940809965133667,\n",
       "  0.9423676133155823,\n",
       "  0.9283488988876343,\n",
       "  0.940809965133667,\n",
       "  0.9517133831977844],\n",
       " 'val_loss': [0.6283841729164124,\n",
       "  0.5121937990188599,\n",
       "  0.41681721806526184,\n",
       "  0.3824045658111572,\n",
       "  0.35891103744506836,\n",
       "  0.35777023434638977,\n",
       "  0.3487444818019867,\n",
       "  0.3401619791984558,\n",
       "  0.33645838499069214,\n",
       "  0.3302839398384094,\n",
       "  0.33631467819213867,\n",
       "  0.333942711353302,\n",
       "  0.3257025182247162,\n",
       "  0.3187275826931,\n",
       "  0.3162972927093506,\n",
       "  0.3131991922855377,\n",
       "  0.31038835644721985,\n",
       "  0.309824675321579,\n",
       "  0.30564525723457336,\n",
       "  0.3055400252342224,\n",
       "  0.31639230251312256,\n",
       "  0.30942851305007935,\n",
       "  0.304855614900589,\n",
       "  0.30442699790000916,\n",
       "  0.3005402982234955,\n",
       "  0.29559820890426636,\n",
       "  0.29808127880096436,\n",
       "  0.2873959243297577,\n",
       "  0.2998757064342499,\n",
       "  0.3009580075740814,\n",
       "  0.30912089347839355,\n",
       "  0.3161782920360565,\n",
       "  0.30728381872177124,\n",
       "  0.3075501322746277,\n",
       "  0.324707955121994,\n",
       "  0.3068309426307678,\n",
       "  0.3161618113517761,\n",
       "  0.3156883716583252,\n",
       "  0.3176792562007904,\n",
       "  0.31335145235061646,\n",
       "  0.31718575954437256,\n",
       "  0.3256443738937378,\n",
       "  0.31880486011505127,\n",
       "  0.34451067447662354,\n",
       "  0.35069626569747925,\n",
       "  0.3333132266998291,\n",
       "  0.3385218679904938,\n",
       "  0.34460338950157166,\n",
       "  0.35369962453842163,\n",
       "  0.34539368748664856],\n",
       " 'val_accuracy': [0.8090909123420715,\n",
       "  0.8090909123420715,\n",
       "  0.8181818127632141,\n",
       "  0.8272727131843567,\n",
       "  0.831818163394928,\n",
       "  0.8500000238418579,\n",
       "  0.8545454740524292,\n",
       "  0.8636363744735718,\n",
       "  0.8681818246841431,\n",
       "  0.8772727251052856,\n",
       "  0.8772727251052856,\n",
       "  0.8727272748947144,\n",
       "  0.8863636255264282,\n",
       "  0.8863636255264282,\n",
       "  0.8727272748947144,\n",
       "  0.8727272748947144,\n",
       "  0.8818181753158569,\n",
       "  0.8772727251052856,\n",
       "  0.8772727251052856,\n",
       "  0.8727272748947144,\n",
       "  0.8772727251052856,\n",
       "  0.8772727251052856,\n",
       "  0.8772727251052856,\n",
       "  0.8636363744735718,\n",
       "  0.8818181753158569,\n",
       "  0.8863636255264282,\n",
       "  0.8727272748947144,\n",
       "  0.8954545259475708,\n",
       "  0.8727272748947144,\n",
       "  0.8727272748947144,\n",
       "  0.8727272748947144,\n",
       "  0.8681818246841431,\n",
       "  0.8772727251052856,\n",
       "  0.8818181753158569,\n",
       "  0.8590909242630005,\n",
       "  0.8863636255264282,\n",
       "  0.8863636255264282,\n",
       "  0.8727272748947144,\n",
       "  0.8818181753158569,\n",
       "  0.8909090757369995,\n",
       "  0.8727272748947144,\n",
       "  0.8772727251052856,\n",
       "  0.8909090757369995,\n",
       "  0.8772727251052856,\n",
       "  0.8727272748947144,\n",
       "  0.8863636255264282,\n",
       "  0.8727272748947144,\n",
       "  0.8863636255264282,\n",
       "  0.8681818246841431,\n",
       "  0.8727272748947144]}"
      ]
     },
     "execution_count": 734,
     "metadata": {},
     "output_type": "execute_result"
    }
   ],
   "source": [
    "model.history.history"
   ]
  },
  {
   "cell_type": "code",
   "execution_count": 740,
   "metadata": {},
   "outputs": [
    {
     "ename": "ValueError",
     "evalue": "could not convert string to float: 'M'",
     "output_type": "error",
     "traceback": [
      "\u001b[1;31m---------------------------------------------------------------------------\u001b[0m",
      "\u001b[1;31mValueError\u001b[0m                                Traceback (most recent call last)",
      "Cell \u001b[1;32mIn[740], line 2\u001b[0m\n\u001b[0;32m      1\u001b[0m \u001b[39m#model.predict(X_valid)\u001b[39;00m\n\u001b[1;32m----> 2\u001b[0m x \u001b[39m=\u001b[39m np\u001b[39m.\u001b[39;49masarray(X_valid)\u001b[39m.\u001b[39;49mastype(np\u001b[39m.\u001b[39;49mfloat32)\n\u001b[0;32m      3\u001b[0m model\u001b[39m.\u001b[39mpredict(x)\n",
      "\u001b[1;31mValueError\u001b[0m: could not convert string to float: 'M'"
     ]
    }
   ],
   "source": [
    "#model.predict(X_valid)\n",
    "x = np.asarray(X_valid).astype(np.float32)\n",
    "model.predict(x)\n"
   ]
  },
  {
   "cell_type": "code",
   "execution_count": 733,
   "metadata": {},
   "outputs": [
    {
     "ename": "ValueError",
     "evalue": "Failed to convert a NumPy array to a Tensor (Unsupported object type int).",
     "output_type": "error",
     "traceback": [
      "\u001b[1;31m---------------------------------------------------------------------------\u001b[0m",
      "\u001b[1;31mValueError\u001b[0m                                Traceback (most recent call last)",
      "Cell \u001b[1;32mIn[733], line 1\u001b[0m\n\u001b[1;32m----> 1\u001b[0m \u001b[39mprint\u001b[39m(\u001b[39m\"\u001b[39m\u001b[39mR^2: \u001b[39m\u001b[39m{}\u001b[39;00m\u001b[39m\"\u001b[39m\u001b[39m.\u001b[39mformat(metrics\u001b[39m.\u001b[39mprecision_score(y_test, model\u001b[39m.\u001b[39;49mpredict(X_test)) ))\n\u001b[0;32m      2\u001b[0m \u001b[39mprint\u001b[39m(\u001b[39m\"\u001b[39m\u001b[39mrecall_score: \u001b[39m\u001b[39m{}\u001b[39;00m\u001b[39m\"\u001b[39m\u001b[39m.\u001b[39mformat( metrics\u001b[39m.\u001b[39mrecall_score(y_test, model\u001b[39m.\u001b[39mpredict(X_test)) ))\n\u001b[0;32m      3\u001b[0m \u001b[39mprint\u001b[39m(\u001b[39m\"\u001b[39m\u001b[39mf1_score: \u001b[39m\u001b[39m{}\u001b[39;00m\u001b[39m\"\u001b[39m\u001b[39m.\u001b[39mformat( metrics\u001b[39m.\u001b[39mf1_score(y_test, model\u001b[39m.\u001b[39mpredict(X_test)) ))\n",
      "File \u001b[1;32m~\\AppData\\Roaming\\Python\\Python311\\site-packages\\keras\\utils\\traceback_utils.py:70\u001b[0m, in \u001b[0;36mfilter_traceback.<locals>.error_handler\u001b[1;34m(*args, **kwargs)\u001b[0m\n\u001b[0;32m     67\u001b[0m     filtered_tb \u001b[39m=\u001b[39m _process_traceback_frames(e\u001b[39m.\u001b[39m__traceback__)\n\u001b[0;32m     68\u001b[0m     \u001b[39m# To get the full stack trace, call:\u001b[39;00m\n\u001b[0;32m     69\u001b[0m     \u001b[39m# `tf.debugging.disable_traceback_filtering()`\u001b[39;00m\n\u001b[1;32m---> 70\u001b[0m     \u001b[39mraise\u001b[39;00m e\u001b[39m.\u001b[39mwith_traceback(filtered_tb) \u001b[39mfrom\u001b[39;00m \u001b[39mNone\u001b[39m\n\u001b[0;32m     71\u001b[0m \u001b[39mfinally\u001b[39;00m:\n\u001b[0;32m     72\u001b[0m     \u001b[39mdel\u001b[39;00m filtered_tb\n",
      "File \u001b[1;32m~\\AppData\\Roaming\\Python\\Python311\\site-packages\\tensorflow\\python\\framework\\constant_op.py:103\u001b[0m, in \u001b[0;36mconvert_to_eager_tensor\u001b[1;34m(value, ctx, dtype)\u001b[0m\n\u001b[0;32m    101\u001b[0m     dtype \u001b[39m=\u001b[39m dtypes\u001b[39m.\u001b[39mas_dtype(dtype)\u001b[39m.\u001b[39mas_datatype_enum\n\u001b[0;32m    102\u001b[0m ctx\u001b[39m.\u001b[39mensure_initialized()\n\u001b[1;32m--> 103\u001b[0m \u001b[39mreturn\u001b[39;00m ops\u001b[39m.\u001b[39;49mEagerTensor(value, ctx\u001b[39m.\u001b[39;49mdevice_name, dtype)\n",
      "\u001b[1;31mValueError\u001b[0m: Failed to convert a NumPy array to a Tensor (Unsupported object type int)."
     ]
    }
   ],
   "source": [
    "print(\"R^2: {}\".format(metrics.precision_score(y_test, model.predict(X_test)) ))\n",
    "print(\"recall_score: {}\".format( metrics.recall_score(y_test, model.predict(X_test)) ))\n",
    "print(\"f1_score: {}\".format( metrics.f1_score(y_test, model.predict(X_test)) ))\n",
    "print(\"accuracy_score: {}\".format( metrics.accuracy_score(y_test, model.predict(X_test)) ))\n",
    "print(\"roc_score: {}\".format( roc_auc_score(y_test, model.predict(X_test))))"
   ]
  }
 ],
 "metadata": {
  "kernelspec": {
   "display_name": "Python 3",
   "language": "python",
   "name": "python3"
  },
  "language_info": {
   "codemirror_mode": {
    "name": "ipython",
    "version": 3
   },
   "file_extension": ".py",
   "mimetype": "text/x-python",
   "name": "python",
   "nbconvert_exporter": "python",
   "pygments_lexer": "ipython3",
   "version": "3.11.0"
  },
  "orig_nbformat": 4
 },
 "nbformat": 4,
 "nbformat_minor": 2
}
